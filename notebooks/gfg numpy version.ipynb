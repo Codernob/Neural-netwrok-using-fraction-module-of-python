{
 "cells": [
  {
   "cell_type": "markdown",
   "metadata": {},
   "source": [
    "This implementation is taken from https://www.geeksforgeeks.org/implementation-of-neural-network-from-scratch-using-numpy/ <br>\n",
    "time taken for training : 0.1 seconds. <br>\n",
    "accuracy : 93.59270609460634 %"
   ]
  },
  {
   "cell_type": "code",
   "execution_count": 31,
   "metadata": {},
   "outputs": [],
   "source": [
    "import numpy as np\n",
    "import matplotlib.pyplot as plt\n",
    "np.random.seed(0)"
   ]
  },
  {
   "cell_type": "code",
   "execution_count": 32,
   "metadata": {},
   "outputs": [],
   "source": [
    "# A\n",
    "a =[0, 0, 1, 1, 0, 0,\n",
    "   0, 1, 0, 0, 1, 0,\n",
    "   1, 1, 1, 1, 1, 1,\n",
    "   1, 0, 0, 0, 0, 1,\n",
    "   1, 0, 0, 0, 0, 1]\n",
    "# B\n",
    "b =[0, 1, 1, 1, 1, 0,\n",
    "   0, 1, 0, 0, 1, 0,\n",
    "   0, 1, 1, 1, 1, 0,\n",
    "   0, 1, 0, 0, 1, 0,\n",
    "   0, 1, 1, 1, 1, 0]\n",
    "# C\n",
    "c =[0, 1, 1, 1, 1, 0,\n",
    "   0, 1, 0, 0, 0, 0,\n",
    "   0, 1, 0, 0, 0, 0,\n",
    "   0, 1, 0, 0, 0, 0,\n",
    "   0, 1, 1, 1, 1, 0]\n",
    " \n",
    "# Creating labels\n",
    "y =[[1, 0, 0],\n",
    "   [0, 1, 0],\n",
    "   [0, 0, 1]]"
   ]
  },
  {
   "cell_type": "code",
   "execution_count": 33,
   "metadata": {},
   "outputs": [
    {
     "data": {
      "image/png": "[encoded data removed]",
      "text/plain": [
       "<Figure size 432x288 with 1 Axes>"
      ]
     },
     "metadata": {
      "needs_background": "light"
     },
     "output_type": "display_data"
    }
   ],
   "source": [
    "# visualizing the data, ploting A.\n",
    "plt.imshow(np.array(a).reshape(5, 6))\n",
    "plt.show()"
   ]
  },
  {
   "cell_type": "code",
   "execution_count": 34,
   "metadata": {},
   "outputs": [
    {
     "name": "stdout",
     "output_type": "stream",
     "text": [
      "[array([[0, 0, 1, 1, 0, 0, 0, 1, 0, 0, 1, 0, 1, 1, 1, 1, 1, 1, 1, 0, 0, 0,\n",
      "        0, 1, 1, 0, 0, 0, 0, 1]]), array([[0, 1, 1, 1, 1, 0, 0, 1, 0, 0, 1, 0, 0, 1, 1, 1, 1, 0, 0, 1, 0, 0,\n",
      "        1, 0, 0, 1, 1, 1, 1, 0]]), array([[0, 1, 1, 1, 1, 0, 0, 1, 0, 0, 0, 0, 0, 1, 0, 0, 0, 0, 0, 1, 0, 0,\n",
      "        0, 0, 0, 1, 1, 1, 1, 0]])] \n",
      "\n",
      " [[1 0 0]\n",
      " [0 1 0]\n",
      " [0 0 1]]\n"
     ]
    }
   ],
   "source": [
    "# converting data and labels into numpy array\n",
    " \n",
    "\"\"\"\n",
    "Convert the matrix of 0 and 1 into one hot vector\n",
    "so that we can directly feed it to the neural network,\n",
    "these vectors are then stored in a list x.\n",
    "\"\"\"\n",
    " \n",
    "x =[np.array(a).reshape(1, 30), np.array(b).reshape(1, 30),\n",
    "                                np.array(c).reshape(1, 30)]\n",
    " \n",
    " \n",
    "# Labels are also converted into NumPy array\n",
    "y = np.array(y)\n",
    " \n",
    " \n",
    "print(x, \"\\n\\n\", y)"
   ]
  },
  {
   "cell_type": "code",
   "execution_count": 35,
   "metadata": {},
   "outputs": [],
   "source": [
    "# activation function\n",
    "\n",
    "def sigmoid(x):\n",
    "\treturn(1/(1 + np.exp(-x)))\n",
    "\n",
    "# Creating the Feed forward neural network\n",
    "# 1 Input layer(1, 30)\n",
    "# 1 hidden layer (1, 5)\n",
    "# 1 output layer(3, 3)\n",
    "\n",
    "def f_forward(x, w1, w2):\n",
    "\t# hidden\n",
    "\tz1 = x.dot(w1)# input from layer 1\n",
    "\ta1 = sigmoid(z1)# out put of layer 2\n",
    "\t\n",
    "\t# Output layer\n",
    "\tz2 = a1.dot(w2)# input of out layer\n",
    "\ta2 = sigmoid(z2)# output of out layer\n",
    "\treturn(a2)\n",
    "\n",
    "# initializing the weights randomly\n",
    "def generate_wt(x, y):\n",
    "\tl =[]\n",
    "\tfor i in range(x * y):\n",
    "\t\tl.append(np.random.randn())\n",
    "\treturn(np.array(l).reshape(x, y))\n",
    "\t\n",
    "# for loss we will be using mean square error(MSE)\n",
    "def loss(out, Y):\n",
    "\ts =(np.square(out-Y))\n",
    "\ts = np.sum(s)/len(y)\n",
    "\treturn(s)\n",
    "\n",
    "# Back propagation of error\n",
    "def back_prop(x, y, w1, w2, alpha):\n",
    "\t\n",
    "\t# hidden layer\n",
    "\tz1 = x.dot(w1)# input from layer 1\n",
    "\ta1 = sigmoid(z1)# output of layer 2\n",
    "\t\n",
    "\t# Output layer\n",
    "\tz2 = a1.dot(w2)# input of out layer\n",
    "\ta2 = sigmoid(z2)# output of out layer\n",
    "\t# error in output layer\n",
    "\td2 =(a2-y)\n",
    "\td1 = np.multiply((w2.dot((d2.transpose()))).transpose(),\n",
    "\t\t\t\t\t\t\t\t(np.multiply(a1, 1-a1)))\n",
    "\n",
    "\t# Gradient for w1 and w2\n",
    "\tw1_adj = x.transpose().dot(d1)\n",
    "\tw2_adj = a1.transpose().dot(d2)\n",
    "\t\n",
    "\t# Updating parameters\n",
    "\tw1 = w1-(alpha*(w1_adj))\n",
    "\tw2 = w2-(alpha*(w2_adj))\n",
    "\t\n",
    "\treturn(w1, w2)\n",
    "\n",
    "def train(x, Y, w1, w2, alpha = 0.01, epoch = 10):\n",
    "\tacc =[]\n",
    "\tlosss =[]\n",
    "\tfor j in range(epoch):\n",
    "\t\tl =[]\n",
    "\t\tfor i in range(len(x)):\n",
    "\t\t\tout = f_forward(x[i], w1, w2)\n",
    "\t\t\tl.append((loss(out, Y[i])))\n",
    "\t\t\tw1, w2 = back_prop(x[i], y[i], w1, w2, alpha)\n",
    "\t\tprint(\"epochs:\", j + 1, \"======== acc:\", (1-(sum(l)/len(x)))*100)\n",
    "\t\tacc.append((1-(sum(l)/len(x)))*100)\n",
    "\t\tlosss.append(sum(l)/len(x))\n",
    "\treturn(acc, losss, w1, w2)\n",
    "\n",
    "def predict(x, w1, w2):\n",
    "\tOut = f_forward(x, w1, w2)\n",
    "\tmaxm = 0\n",
    "\tk = 0\n",
    "\tfor i in range(len(Out[0])):\n",
    "\t\tif(maxm<Out[0][i]):\n",
    "\t\t\tmaxm = Out[0][i]\n",
    "\t\t\tk = i\n",
    "\tif(k == 0):\n",
    "\t\tprint(\"Image is of letter A.\")\n",
    "\telif(k == 1):\n",
    "\t\tprint(\"Image is of letter B.\")\n",
    "\telse:\n",
    "\t\tprint(\"Image is of letter C.\")\n",
    "\tplt.imshow(x.reshape(5, 6))\n",
    "\tplt.show()\n",
    "\n",
    "\n"
   ]
  },
  {
   "cell_type": "code",
   "execution_count": 36,
   "metadata": {},
   "outputs": [
    {
     "name": "stdout",
     "output_type": "stream",
     "text": [
      "[[ 1.76405235  0.40015721  0.97873798  2.2408932   1.86755799]\n",
      " [-0.97727788  0.95008842 -0.15135721 -0.10321885  0.4105985 ]\n",
      " [ 0.14404357  1.45427351  0.76103773  0.12167502  0.44386323]\n",
      " [ 0.33367433  1.49407907 -0.20515826  0.3130677  -0.85409574]\n",
      " [-2.55298982  0.6536186   0.8644362  -0.74216502  2.26975462]\n",
      " [-1.45436567  0.04575852 -0.18718385  1.53277921  1.46935877]\n",
      " [ 0.15494743  0.37816252 -0.88778575 -1.98079647 -0.34791215]\n",
      " [ 0.15634897  1.23029068  1.20237985 -0.38732682 -0.30230275]\n",
      " [-1.04855297 -1.42001794 -1.70627019  1.9507754  -0.50965218]\n",
      " [-0.4380743  -1.25279536  0.77749036 -1.61389785 -0.21274028]\n",
      " [-0.89546656  0.3869025  -0.51080514 -1.18063218 -0.02818223]\n",
      " [ 0.42833187  0.06651722  0.3024719  -0.63432209 -0.36274117]\n",
      " [-0.67246045 -0.35955316 -0.81314628 -1.7262826   0.17742614]\n",
      " [-0.40178094 -1.63019835  0.46278226 -0.90729836  0.0519454 ]\n",
      " [ 0.72909056  0.12898291  1.13940068 -1.23482582  0.40234164]\n",
      " [-0.68481009 -0.87079715 -0.57884966 -0.31155253  0.05616534]\n",
      " [-1.16514984  0.90082649  0.46566244 -1.53624369  1.48825219]\n",
      " [ 1.89588918  1.17877957 -0.17992484 -1.07075262  1.05445173]\n",
      " [-0.40317695  1.22244507  0.20827498  0.97663904  0.3563664 ]\n",
      " [ 0.70657317  0.01050002  1.78587049  0.12691209  0.40198936]\n",
      " [ 1.8831507  -1.34775906 -1.270485    0.96939671 -1.17312341]\n",
      " [ 1.94362119 -0.41361898 -0.74745481  1.92294203  1.48051479]\n",
      " [ 1.86755896  0.90604466 -0.86122569  1.91006495 -0.26800337]\n",
      " [ 0.8024564   0.94725197 -0.15501009  0.61407937  0.92220667]\n",
      " [ 0.37642553 -1.09940079  0.29823817  1.3263859  -0.69456786]\n",
      " [-0.14963454 -0.43515355  1.84926373  0.67229476  0.40746184]\n",
      " [-0.76991607  0.53924919 -0.67433266  0.03183056 -0.63584608]\n",
      " [ 0.67643329  0.57659082 -0.20829876  0.39600671 -1.09306151]\n",
      " [-1.49125759  0.4393917   0.1666735   0.63503144  2.38314477]\n",
      " [ 0.94447949 -0.91282223  1.11701629 -1.31590741 -0.4615846 ]] \n",
      "\n",
      " [[-0.06824161  1.71334272 -0.74475482]\n",
      " [-0.82643854 -0.09845252 -0.66347829]\n",
      " [ 1.12663592 -1.07993151 -1.14746865]\n",
      " [-0.43782004 -0.49803245  1.92953205]\n",
      " [ 0.94942081  0.08755124 -1.22543552]]\n"
     ]
    }
   ],
   "source": [
    "w1 = generate_wt(30, 5)\n",
    "w2 = generate_wt(5, 3)\n",
    "print(w1, \"\\n\\n\", w2)"
   ]
  },
  {
   "cell_type": "code",
   "execution_count": 37,
   "metadata": {},
   "outputs": [
    {
     "name": "stdout",
     "output_type": "stream",
     "text": [
      "epochs: 1 ======== acc: 67.66172289194839\n",
      "epochs: 2 ======== acc: 71.25858874602797\n",
      "epochs: 3 ======== acc: 74.30864258526957\n",
      "epochs: 4 ======== acc: 76.59043083417859\n",
      "epochs: 5 ======== acc: 78.21468693237537\n",
      "epochs: 6 ======== acc: 79.36391954777471\n",
      "epochs: 7 ======== acc: 80.19142600287947\n",
      "epochs: 8 ======== acc: 80.80619488643453\n",
      "epochs: 9 ======== acc: 81.28040148591631\n",
      "epochs: 10 ======== acc: 81.66023386180339\n",
      "epochs: 11 ======== acc: 81.97495466257035\n",
      "epochs: 12 ======== acc: 82.24328412674284\n",
      "epochs: 13 ======== acc: 82.47748664839919\n",
      "epochs: 14 ======== acc: 82.68584690476018\n",
      "epochs: 15 ======== acc: 82.87413707260461\n",
      "epochs: 16 ======== acc: 83.04649067469676\n",
      "epochs: 17 ======== acc: 83.20593620701722\n",
      "epochs: 18 ======== acc: 83.35473478758641\n",
      "epochs: 19 ======== acc: 83.49460189960851\n",
      "epochs: 20 ======== acc: 83.62685790442502\n",
      "epochs: 21 ======== acc: 83.75253294666273\n",
      "epochs: 22 ======== acc: 83.87244155687308\n",
      "epochs: 23 ======== acc: 83.98723650995233\n",
      "epochs: 24 ======== acc: 84.097448158567\n",
      "epochs: 25 ======== acc: 84.20351342720618\n",
      "epochs: 26 ======== acc: 84.30579735746717\n",
      "epochs: 27 ======== acc: 84.40460923894764\n",
      "epochs: 28 ======== acc: 84.50021477726541\n",
      "epochs: 29 ======== acc: 84.59284534539482\n",
      "epochs: 30 ======== acc: 84.68270507830161\n",
      "epochs: 31 ======== acc: 84.7699763665903\n",
      "epochs: 32 ======== acc: 84.85482415799561\n",
      "epochs: 33 ======== acc: 84.9373993693851\n",
      "epochs: 34 ======== acc: 85.01784163495412\n",
      "epochs: 35 ======== acc: 85.09628156038585\n",
      "epochs: 36 ======== acc: 85.17284261218455\n",
      "epochs: 37 ======== acc: 85.24764274208889\n",
      "epochs: 38 ======== acc: 85.32079582553277\n",
      "epochs: 39 ======== acc: 85.39241297848976\n",
      "epochs: 40 ======== acc: 85.462603807281\n",
      "epochs: 41 ======== acc: 85.53147764008007\n",
      "epochs: 42 ======== acc: 85.59914478630472\n",
      "epochs: 43 ======== acc: 85.66571787053486\n",
      "epochs: 44 ======== acc: 85.73131329098462\n",
      "epochs: 45 ======== acc: 85.796052859081\n",
      "epochs: 46 ======== acc: 85.86006568681861\n",
      "epochs: 47 ======== acc: 85.92349040302771\n",
      "epochs: 48 ======== acc: 85.98647779963716\n",
      "epochs: 49 ======== acc: 86.04919403601662\n",
      "epochs: 50 ======== acc: 86.11182456572159\n",
      "epochs: 51 ======== acc: 86.17457899836003\n",
      "epochs: 52 ======== acc: 86.23769717369949\n",
      "epochs: 53 ======== acc: 86.30145681044998\n",
      "epochs: 54 ======== acc: 86.36618320437317\n",
      "epochs: 55 ======== acc: 86.43226159610884\n",
      "epochs: 56 ======== acc: 86.50015301422603\n",
      "epochs: 57 ======== acc: 86.5704146248856\n",
      "epochs: 58 ======== acc: 86.64372587456425\n",
      "epochs: 59 ======== acc: 86.72092195347086\n",
      "epochs: 60 ======== acc: 86.80303622153895\n",
      "epochs: 61 ======== acc: 86.8913529663109\n",
      "epochs: 62 ======== acc: 86.98747065030366\n",
      "epochs: 63 ======== acc: 87.09337255574819\n",
      "epochs: 64 ======== acc: 87.21149442480845\n",
      "epochs: 65 ======== acc: 87.34476403171539\n",
      "epochs: 66 ======== acc: 87.49656147949239\n",
      "epochs: 67 ======== acc: 87.67050990491401\n",
      "epochs: 68 ======== acc: 87.86996665707964\n",
      "epochs: 69 ======== acc: 88.09709423763938\n",
      "epochs: 70 ======== acc: 88.35155166692786\n",
      "epochs: 71 ======== acc: 88.62924877374144\n",
      "epochs: 72 ======== acc: 88.9220671768108\n",
      "epochs: 73 ======== acc: 89.21932657087991\n",
      "epochs: 74 ======== acc: 89.51060932796115\n",
      "epochs: 75 ======== acc: 89.78831095144349\n",
      "epochs: 76 ======== acc: 90.04854724533514\n",
      "epochs: 77 ======== acc: 90.2905065795514\n",
      "epochs: 78 ======== acc: 90.51522381095042\n",
      "epochs: 79 ======== acc: 90.72453943448224\n",
      "epochs: 80 ======== acc: 90.92046717805462\n",
      "epochs: 81 ======== acc: 91.10489116280024\n",
      "epochs: 82 ======== acc: 91.27945619266946\n",
      "epochs: 83 ======== acc: 91.4455514084919\n",
      "epochs: 84 ======== acc: 91.6043317737482\n",
      "epochs: 85 ======== acc: 91.75675088314117\n",
      "epochs: 86 ======== acc: 91.90359393990012\n",
      "epochs: 87 ======== acc: 92.04550695504005\n",
      "epochs: 88 ======== acc: 92.18302130383161\n",
      "epochs: 89 ======== acc: 92.31657395085206\n",
      "epochs: 90 ======== acc: 92.4465240094974\n",
      "epochs: 91 ======== acc: 92.5731663286981\n",
      "epochs: 92 ======== acc: 92.69674271223114\n",
      "epochs: 93 ======== acc: 92.81745126159436\n",
      "epochs: 94 ======== acc: 92.93545422460745\n",
      "epochs: 95 ======== acc: 93.05088463908162\n",
      "epochs: 96 ======== acc: 93.16385198588809\n",
      "epochs: 97 ======== acc: 93.27444700752174\n",
      "epochs: 98 ======== acc: 93.38274580498668\n",
      "epochs: 99 ======== acc: 93.48881329555446\n",
      "epochs: 100 ======== acc: 93.59270609460634\n"
     ]
    }
   ],
   "source": [
    "\"\"\"The arguments of train function are data set list x,\n",
    "correct labels y, weights w1, w2, learning rate = 0.1,\n",
    "no of epochs or iteration.The function will return the\n",
    "matrix of accuracy and loss and also the matrix of\n",
    "trained weights w1, w2\"\"\"\n",
    " \n",
    "acc, losss, w1, w2 = train(x, y, w1, w2, 0.1, 100)"
   ]
  },
  {
   "cell_type": "code",
   "execution_count": 38,
   "metadata": {},
   "outputs": [
    {
     "data": {
      "image/png": "[encoded data removed]",
      "text/plain": [
       "<Figure size 432x288 with 1 Axes>"
      ]
     },
     "metadata": {
      "needs_background": "light"
     },
     "output_type": "display_data"
    },
    {
     "data": {
      "image/png": "[encoded data removed]",
      "text/plain": [
       "<Figure size 432x288 with 1 Axes>"
      ]
     },
     "metadata": {
      "needs_background": "light"
     },
     "output_type": "display_data"
    }
   ],
   "source": [
    "import matplotlib.pyplot as plt1\n",
    " \n",
    "# ploting accuracy\n",
    "plt1.plot(acc)\n",
    "plt1.ylabel('Accuracy')\n",
    "plt1.xlabel(\"Epochs:\")\n",
    "plt1.show()\n",
    " \n",
    "# plotting Loss\n",
    "plt1.plot(losss)\n",
    "plt1.ylabel('Loss')\n",
    "plt1.xlabel(\"Epochs:\")\n",
    "plt1.show()"
   ]
  },
  {
   "cell_type": "code",
   "execution_count": 39,
   "metadata": {},
   "outputs": [
    {
     "name": "stdout",
     "output_type": "stream",
     "text": [
      "[[ 1.76405235  0.40015721  0.97873798  2.2408932   1.86755799]\n",
      " [-0.98880531  1.020585   -0.17585334  0.16650605  0.07613443]\n",
      " [-0.18511545  0.97894416  0.86225377  0.38328375  0.19838071]\n",
      " [ 0.00451531  1.01874973 -0.10394222  0.57467644 -1.09957826]\n",
      " [-2.56451725  0.72411518  0.83994007 -0.47244012  1.93529056]\n",
      " [-1.45436567  0.04575852 -0.18718385  1.53277921  1.46935877]\n",
      " [ 0.15494743  0.37816252 -0.88778575 -1.98079647 -0.34791215]\n",
      " [-0.17281005  0.75496134  1.30359589 -0.12571808 -0.54778527]\n",
      " [-1.04855297 -1.42001794 -1.70627019  1.9507754  -0.50965218]\n",
      " [-0.4380743  -1.25279536  0.77749036 -1.61389785 -0.21274028]\n",
      " [-1.19416221 -0.08484699 -0.4061606  -1.84512239  0.1031478 ]\n",
      " [ 0.42833187  0.06651722  0.3024719  -0.63432209 -0.36274117]\n",
      " [-0.99009204 -0.90537909 -0.68743411 -1.73439877  0.26640769]\n",
      " [-0.73093996 -2.10552769  0.5639983  -0.64568963 -0.19353713]\n",
      " [ 0.43039491 -0.34276657  1.24404523 -1.89931602  0.53367167]\n",
      " [-0.98350574 -1.34254663 -0.47420512 -0.97604273  0.18749537]\n",
      " [-1.46384549  0.429077    0.57030698 -2.20073389  1.61958222]\n",
      " [ 1.57825758  0.63295364 -0.05421266 -1.07886879  1.14343327]\n",
      " [-0.72080854  0.67661914  0.33398715  0.96852287  0.44534794]\n",
      " [ 0.69504574  0.08099661  1.76137436  0.396637    0.06752529]\n",
      " [ 1.8831507  -1.34775906 -1.270485    0.96939671 -1.17312341]\n",
      " [ 1.94362119 -0.41361898 -0.74745481  1.92294203  1.48051479]\n",
      " [ 1.8864949   0.9801211  -0.88229332  1.25369092 -0.22565489]\n",
      " [ 0.4848248   0.40142604 -0.02929792  0.6059632   1.01118822]\n",
      " [ 0.05879394 -1.64522672  0.42395035  1.31826973 -0.60558631]\n",
      " [-0.16116197 -0.36465697  1.8247676   0.94201966  0.07299777]\n",
      " [-0.7814435   0.60974578 -0.69882879  0.30155546 -0.97031015]\n",
      " [ 0.66490586  0.6470874  -0.23279489  0.66573162 -1.42752558]\n",
      " [-1.50278502  0.50988829  0.14217736  0.90475634  2.04868071]\n",
      " [ 0.6268479  -1.45864815  1.24272846 -1.32402358 -0.37260306]] \n",
      " [[ 0.53842628  1.14754725 -0.85976762]\n",
      " [-2.23734718  0.96670826 -0.28281347]\n",
      " [ 0.63012057 -1.08796037 -1.04435061]\n",
      " [-2.39171271 -1.53375346  4.19866724]\n",
      " [ 0.43908675  0.42000637 -1.31972989]]\n"
     ]
    }
   ],
   "source": [
    "# the trained weights are\n",
    "print(w1, \"\\n\", w2)"
   ]
  },
  {
   "cell_type": "code",
   "execution_count": 40,
   "metadata": {},
   "outputs": [
    {
     "name": "stdout",
     "output_type": "stream",
     "text": [
      "Image is of letter B.\n"
     ]
    },
    {
     "data": {
      "image/png": "[encoded data removed]",
      "text/plain": [
       "<Figure size 432x288 with 1 Axes>"
      ]
     },
     "metadata": {
      "needs_background": "light"
     },
     "output_type": "display_data"
    }
   ],
   "source": [
    "\"\"\"\n",
    "The predict function will take the following arguments:\n",
    "1) image matrix\n",
    "2) w1 trained weights\n",
    "3) w2 trained weights\n",
    "\"\"\"\n",
    "predict(x[1], w1, w2)"
   ]
  },
  {
   "cell_type": "code",
   "execution_count": 41,
   "metadata": {},
   "outputs": [
    {
     "data": {
      "text/plain": [
       "93.59270609460634"
      ]
     },
     "execution_count": 41,
     "metadata": {},
     "output_type": "execute_result"
    }
   ],
   "source": [
    "float(max(acc))"
   ]
  },
  {
   "cell_type": "code",
   "execution_count": null,
   "metadata": {},
   "outputs": [],
   "source": []
  }
 ],
 "metadata": {
  "kernelspec": {
   "display_name": "Python 3.8.10 ('base')",
   "language": "python",
   "name": "python3"
  },
  "language_info": {
   "codemirror_mode": {
    "name": "ipython",
    "version": 3
   },
   "file_extension": ".py",
   "mimetype": "text/x-python",
   "name": "python",
   "nbconvert_exporter": "python",
   "pygments_lexer": "ipython3",
   "version": "3.8.10"
  },
  "orig_nbformat": 4,
  "vscode": {
   "interpreter": {
    "hash": "81dc7c032e27857e7bb0d7c35d4392f14858877880f9a4cb6ba3390acaca6763"
   }
  }
 },
 "nbformat": 4,
 "nbformat_minor": 2
}
