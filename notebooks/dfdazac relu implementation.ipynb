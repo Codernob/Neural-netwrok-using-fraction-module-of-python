{
 "cells": [
  {
   "cell_type": "markdown",
   "metadata": {},
   "source": [
    "This code is taken from\n",
    "https://dfdazac.github.io/06-neural-networks-numpy.html"
   ]
  },
  {
   "cell_type": "code",
   "execution_count": 8,
   "metadata": {},
   "outputs": [],
   "source": [
    "import numpy as np\n",
    "import matplotlib.pyplot as plt\n",
    "%matplotlib inline"
   ]
  },
  {
   "cell_type": "code",
   "execution_count": 9,
   "metadata": {},
   "outputs": [],
   "source": [
    "\n",
    "class Linear:\n",
    "    \"\"\" A linear layer that performs the operation\n",
    "    W X + b\n",
    "    Args:\n",
    "        - n_inputs (int): number of inputs\n",
    "        - n_outputs (int): number of outputs\n",
    "    \"\"\"\n",
    "    def __init__(self, n_inputs, n_outputs):\n",
    "        self.W = np.random.standard_normal((n_outputs, n_inputs)) * np.sqrt(2/n_inputs)\n",
    "        self.b = np.zeros((n_outputs, 1))\n",
    "        self.dW = None\n",
    "        self.db = None\n",
    "        self.A_prev = None\n",
    "        self.Zl = None\n",
    "\n",
    "    def __call__(self, X, cache=False):\n",
    "        \"\"\" Performs a forward pass on the layer given X.\n",
    "        Args:\n",
    "            - X (n_inputs, n): input array\n",
    "            - cache (bool): whether or not to save intermediate\n",
    "                values. Used during backpropagation.\n",
    "        Returns: the result of the operation of the layer on X.\n",
    "        \"\"\"\n",
    "        Zl = self.W @ X + self.b\n",
    "        if cache:\n",
    "            self.A_prev = X.copy()\n",
    "            self.Zl = Zl.copy()\n",
    "        return Zl"
   ]
  },
  {
   "cell_type": "code",
   "execution_count": 10,
   "metadata": {},
   "outputs": [],
   "source": [
    "def relu(X):\n",
    "    \"\"\" ReLU activation function \"\"\"\n",
    "    return np.where(X > 0, X, 0)\n",
    "\n",
    "def d_relu(X):\n",
    "    \"\"\" Derivative of the ReLU activation function \"\"\"\n",
    "    return np.where(X > 0, 1, 0)"
   ]
  },
  {
   "cell_type": "code",
   "execution_count": 11,
   "metadata": {},
   "outputs": [],
   "source": [
    "def one_hot_convert(t, n_classes):\n",
    "    \"\"\" Convert arrays of integer labels to one-hot encoded vectors.\n",
    "    Args:\n",
    "        - t (n,): array containing n labels\n",
    "        - n_classes (int): the number of possible classes\n",
    "    Returns: (n_classes, n) binary array containing one-hot\n",
    "        vectors in its columns.\n",
    "    \"\"\"\n",
    "    if np.min(t) < 0 or np.max(t) >= n_classes:\n",
    "        raise ValueError(\"Elements in array must be in the interval [0, {:d})\".format(n_classes))\n",
    "    T = np.zeros((n_classes, len(t)), dtype=int)\n",
    "    T[t, np.arange(len(t))] = 1\n",
    "    return T"
   ]
  },
  {
   "cell_type": "code",
   "execution_count": 12,
   "metadata": {},
   "outputs": [],
   "source": [
    "class NNClassifier:\n",
    "    \"\"\" A neural network classifier.\n",
    "    Args:\n",
    "        - units (iterable): contains the number of units (int)\n",
    "            for each layer, from the input layer up to the\n",
    "            output layer.\n",
    "    \"\"\"\n",
    "    def __init__(self, units):\n",
    "        self.units = units\n",
    "        self.n_classes = units[-1]\n",
    "        self.layers = []\n",
    "        for i in range(1, len(units)):\n",
    "            self.layers.append(Linear(units[i - 1], units[i]))\n",
    "        self.dZL = None\n",
    "\n",
    "    def forward(self, X, cache=False):\n",
    "        A_prev = X\n",
    "        for layer in self.layers:\n",
    "            Zl = layer(A_prev, cache)\n",
    "            A_prev = relu(Zl)\n",
    "\n",
    "        return Zl\n",
    "\n",
    "    def _log_normalizer(self, ZL):\n",
    "        max_ZL = np.max(ZL, axis=0, keepdims=True)\n",
    "        log_Z = max_ZL + np.log(np.sum(np.exp(ZL - max_ZL), axis=0, keepdims=True))\n",
    "        return log_Z\n",
    "\n",
    "    def loss(self, X, t):\n",
    "        ZL = self.forward(X, cache=True)\n",
    "        log_Z = self._log_normalizer(ZL)\n",
    "        log_probs = ZL - log_Z\n",
    "\n",
    "        T = one_hot_convert(t, self.n_classes)\n",
    "        Z = np.exp(log_Z)\n",
    "        self.dZL = np.exp(ZL)/Z - T\n",
    "\n",
    "        return -np.mean(log_probs[T == 1])\n",
    "\n",
    "    def forward_probs(self, X):\n",
    "        ZL = self.forward(X)\n",
    "        log_Z = self._log_normalizer(ZL)\n",
    "        log_probs = ZL - log_Z\n",
    "        return np.exp(log_probs)\n",
    "\n",
    "    def backward(self):\n",
    "        # Number of samples in mini-batch\n",
    "        n = self.dZL.shape[1]\n",
    "        for i, layer in enumerate(reversed(self.layers)):\n",
    "            if i == 0:\n",
    "                dZl = self.dZL\n",
    "            else:\n",
    "                dZl = d_relu(layer.Zl) * dAl\n",
    "            layer.dW = 1/n * (dZl @ layer.A_prev.T)\n",
    "            layer.db = np.mean(dZl, axis=1, keepdims=True)\n",
    "            dAl = layer.W.T @ dZl"
   ]
  },
  {
   "cell_type": "code",
   "execution_count": 13,
   "metadata": {},
   "outputs": [],
   "source": [
    "class SGD:\n",
    "    \"\"\" Stochastic Gradient Descent optimizer.\n",
    "    Args:\n",
    "        - model (NNClassifier): model with parameters to optimize\n",
    "        - lr (float): learning rate\n",
    "    \"\"\"\n",
    "    def __init__(self, model, lr):\n",
    "        self.lr = lr\n",
    "        self.model = model\n",
    "\n",
    "    def step(self):\n",
    "        for layer in self.model.layers:\n",
    "            layer.W = layer.W - self.lr * layer.dW\n",
    "            layer.b = layer.b - self.lr * layer.db"
   ]
  },
  {
   "cell_type": "code",
   "execution_count": 14,
   "metadata": {},
   "outputs": [
    {
     "data": {
      "image/png": "[encoded data removed]",
      "text/plain": [
       "<Figure size 432x288 with 1 Axes>"
      ]
     },
     "metadata": {
      "needs_background": "light"
     },
     "output_type": "display_data"
    }
   ],
   "source": [
    "from sklearn.datasets import make_moons\n",
    "\n",
    "X, Y = make_moons(noise=0.1)\n",
    "plt.scatter(X[Y==0, 0], X[Y==0, 1])\n",
    "plt.scatter(X[Y==1, 0], X[Y==1, 1]);"
   ]
  },
  {
   "cell_type": "code",
   "execution_count": 15,
   "metadata": {},
   "outputs": [
    {
     "data": {
      "image/png": "[encoded data removed]",
      "text/plain": [
       "<Figure size 432x288 with 1 Axes>"
      ]
     },
     "metadata": {
      "needs_background": "light"
     },
     "output_type": "display_data"
    }
   ],
   "source": [
    "model = NNClassifier([2, 10, 2])\n",
    "optimizer = SGD(model, lr=0.5)\n",
    "\n",
    "n_epochs = 300\n",
    "loss_history = np.zeros(n_epochs)\n",
    "\n",
    "for epoch in range(n_epochs):\n",
    "    # Forward pass\n",
    "    loss_history[epoch] = model.loss(X.T, Y)\n",
    "    # Backward pass\n",
    "    model.backward()\n",
    "    # Parameter updates\n",
    "    optimizer.step()\n",
    "\n",
    "plt.plot(loss_history)\n",
    "plt.title('Final loss: {:.3f}'.format(np.min(loss_history)))\n",
    "plt.xlabel('Epochs');"
   ]
  },
  {
   "cell_type": "code",
   "execution_count": 16,
   "metadata": {},
   "outputs": [
    {
     "data": {
      "image/png": "[encoded data removed]",
      "text/plain": [
       "<Figure size 432x288 with 1 Axes>"
      ]
     },
     "metadata": {
      "needs_background": "light"
     },
     "output_type": "display_data"
    }
   ],
   "source": [
    "# Create a grid\n",
    "N = 200\n",
    "x1 = np.linspace(-2, 3, N)\n",
    "x2 = np.linspace(-1, 2, N)\n",
    "X1, X2 = np.meshgrid(x1, x2)\n",
    "X_flat = np.column_stack((X1.flatten(), X2.flatten()))\n",
    "\n",
    "# Evaluate model on grid\n",
    "Y_pred = model.forward_probs(X_flat.T)[0, :].reshape(X1.shape) < 0.5\n",
    "\n",
    "plt.contourf(X1, X2, Y_pred, cmap='bone', alpha=0.1)\n",
    "plt.scatter(X[Y == 0, 0], X[Y == 0, 1])\n",
    "plt.scatter(X[Y == 1, 0], X[Y == 1, 1]);"
   ]
  }
 ],
 "metadata": {
  "kernelspec": {
   "display_name": "Python 3.8.10 ('base')",
   "language": "python",
   "name": "python3"
  },
  "language_info": {
   "codemirror_mode": {
    "name": "ipython",
    "version": 3
   },
   "file_extension": ".py",
   "mimetype": "text/x-python",
   "name": "python",
   "nbconvert_exporter": "python",
   "pygments_lexer": "ipython3",
   "version": "3.8.10"
  },
  "orig_nbformat": 4,
  "vscode": {
   "interpreter": {
    "hash": "81dc7c032e27857e7bb0d7c35d4392f14858877880f9a4cb6ba3390acaca6763"
   }
  }
 },
 "nbformat": 4,
 "nbformat_minor": 2
}
