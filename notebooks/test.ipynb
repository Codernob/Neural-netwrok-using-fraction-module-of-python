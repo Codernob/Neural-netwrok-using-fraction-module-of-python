{
 "cells": [
  {
   "cell_type": "markdown",
   "metadata": {},
   "source": [
    "Some codes to check a few things before including them in the main code."
   ]
  },
  {
   "cell_type": "code",
   "execution_count": 1,
   "metadata": {},
   "outputs": [],
   "source": [
    "from fractions import Fraction\n",
    "import numpy as np"
   ]
  },
  {
   "cell_type": "code",
   "execution_count": 34,
   "metadata": {},
   "outputs": [],
   "source": [
    "def FloatToFrac(a):\n",
    "    s = a.shape\n",
    "    if len(s)==1:\n",
    "        a = [Fraction(x) for x in a]\n",
    "    else:\n",
    "        a = [[Fraction(x) for x in row] for row in a]\n",
    "    return np.array(a).reshape(s)"
   ]
  },
  {
   "cell_type": "code",
   "execution_count": 45,
   "metadata": {},
   "outputs": [
    {
     "data": {
      "text/plain": [
       "array([[Fraction(5, 1)],\n",
       "       [Fraction(14, 1)],\n",
       "       [Fraction(23, 1)],\n",
       "       [Fraction(32, 1)],\n",
       "       [Fraction(41, 1)]], dtype=object)"
      ]
     },
     "execution_count": 45,
     "metadata": {},
     "output_type": "execute_result"
    }
   ],
   "source": [
    "w2 = np.arange(15).reshape((5,3))\n",
    "d2 = np.arange(3).reshape((1,3))\n",
    "a1 = np.arange(5).reshape((1,5))\n",
    "w2 = FloatToFrac(np.array(w2))\n",
    "d2 = FloatToFrac(np.array(d2))\n",
    "a1 = FloatToFrac(np.array(a1))\n",
    "w2.dot(d2.T)\n"
   ]
  },
  {
   "cell_type": "code",
   "execution_count": 18,
   "metadata": {},
   "outputs": [],
   "source": [
    "def FracToFloat(a):\n",
    "    s = a.shape\n",
    "    if len(s)==1:\n",
    "        a = [float(x) for x in a]\n",
    "    else:\n",
    "        a = [[float(x) for x in row] for row in a]\n",
    "    return np.array(a).reshape(s)"
   ]
  },
  {
   "cell_type": "code",
   "execution_count": 20,
   "metadata": {},
   "outputs": [
    {
     "name": "stdout",
     "output_type": "stream",
     "text": [
      "[1. 2. 3.]\n"
     ]
    }
   ],
   "source": [
    "print(FracToFloat(np.array(a)))"
   ]
  },
  {
   "cell_type": "code",
   "execution_count": 26,
   "metadata": {},
   "outputs": [
    {
     "data": {
      "text/plain": [
       "Fraction(6121026514868073, 2251799813685248)"
      ]
     },
     "execution_count": 26,
     "metadata": {},
     "output_type": "execute_result"
    }
   ],
   "source": [
    "e = Fraction(2.718281828459045)\n",
    "e"
   ]
  },
  {
   "cell_type": "code",
   "execution_count": null,
   "metadata": {},
   "outputs": [],
   "source": [
    "def ExpOfFraction(a):\n",
    "    s = a.shape\n",
    "    if len(s)==1:\n",
    "        a = [Fraction(2.718281828459045**x) for x in a]\n",
    "    else:\n",
    "        a = [[Fraction(2.718281828459045**x) for x in row] for row in a]\n",
    "    return np.array(a).reshape(s)"
   ]
  },
  {
   "cell_type": "code",
   "execution_count": 5,
   "metadata": {},
   "outputs": [
    {
     "name": "stdout",
     "output_type": "stream",
     "text": [
      "[[0.]\n",
      " [3.]\n",
      " [0.]]\n"
     ]
    }
   ],
   "source": [
    "def sigmoid(x):\n",
    "\t#return(1/(1 + np.exp(-x)))\n",
    "\ts = x.shape\n",
    "\tdata = [max(0.0,value) for idx,value in np.ndenumerate(x)]\n",
    "\treturn np.array(data, dtype=float).reshape(s)\n",
    "\n",
    "a = [[-1],\n",
    "    [3],\n",
    "\t[0]]\n",
    "a = np.array(a)\n",
    "print(sigmoid(a))"
   ]
  },
  {
   "cell_type": "code",
   "execution_count": null,
   "metadata": {},
   "outputs": [],
   "source": []
  }
 ],
 "metadata": {
  "kernelspec": {
   "display_name": "Python 3.8.10 ('base')",
   "language": "python",
   "name": "python3"
  },
  "language_info": {
   "codemirror_mode": {
    "name": "ipython",
    "version": 3
   },
   "file_extension": ".py",
   "mimetype": "text/x-python",
   "name": "python",
   "nbconvert_exporter": "python",
   "pygments_lexer": "ipython3",
   "version": "3.8.10"
  },
  "orig_nbformat": 4,
  "vscode": {
   "interpreter": {
    "hash": "81dc7c032e27857e7bb0d7c35d4392f14858877880f9a4cb6ba3390acaca6763"
   }
  }
 },
 "nbformat": 4,
 "nbformat_minor": 2
}
